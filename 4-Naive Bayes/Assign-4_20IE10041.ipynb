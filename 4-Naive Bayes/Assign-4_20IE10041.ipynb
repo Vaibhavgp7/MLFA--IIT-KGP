{
 "cells": [
  {
   "cell_type": "code",
   "execution_count": 164,
   "id": "65edd28b",
   "metadata": {},
   "outputs": [],
   "source": [
    "import numpy as np\n",
    "import pandas as pd\n",
    "import matplotlib.pyplot as plt\n",
    "import seaborn as sns\n",
    "%matplotlib inline"
   ]
  },
  {
   "cell_type": "code",
   "execution_count": 165,
   "id": "b558fe41",
   "metadata": {},
   "outputs": [],
   "source": [
    "# showing all columns\n",
    "pd.set_option('display.max_columns', None)\n",
    "from sklearn.datasets import load_iris\n",
    "iris = load_iris()\n",
    "# print(iris)"
   ]
  },
  {
   "cell_type": "code",
   "execution_count": 166,
   "id": "dc17e8eb",
   "metadata": {},
   "outputs": [],
   "source": [
    "iris_df = pd.DataFrame(data = iris['data'], columns = iris['feature_names'])\n",
    "# print(iris_df.to_markdown())\n",
    "# iris_df.describe()"
   ]
  },
  {
   "cell_type": "code",
   "execution_count": 167,
   "id": "33788d01",
   "metadata": {},
   "outputs": [],
   "source": [
    "from sklearn.utils import shuffle\n",
    "X, y = iris.data, iris.target\n",
    "# Combine the data and target arrays\n",
    "combined = list(zip(X,y))\n",
    "# Shuffle the combined list\n",
    "shuffled_data = shuffle(combined,random_state=0)\n",
    "\n",
    "# Unzip the shuffled data\n",
    "X,y = zip(*shuffled_data)\n",
    "\n",
    "# Convert back to numpy arrays\n",
    "X = np.array(X)\n",
    "y = np.array(y)"
   ]
  },
  {
   "cell_type": "code",
   "execution_count": 168,
   "id": "f1737ee9",
   "metadata": {},
   "outputs": [],
   "source": [
    "import numpy as np\n",
    "\n",
    "class NB_CLS:\n",
    "    def __init__(self, num_bins=3):\n",
    "        self.num_bins = num_bins\n",
    "        self.prior_probs = None\n",
    "        self.cond_probs = None\n",
    "\n",
    "    def preprocess_data(self, X):\n",
    "        # Divide each attribute value into equally wide bins\n",
    "        bins = np.linspace(X.min(), X.max(), self.num_bins + 1)\n",
    "        digitized = np.digitize(X, bins)\n",
    "        digitized = np.clip(digitized, 1, self.num_bins)\n",
    "        return digitized\n",
    "\n",
    "    def compute_prior_probs(self, y):\n",
    "        # Compute the prior probabilities of each class\n",
    "        unique_classes, class_counts = np.unique(y, return_counts=True)\n",
    "        prior_probs = class_counts / len(y)\n",
    "        return prior_probs\n",
    "\n",
    "    def compute_cond_probs(self, X, y):\n",
    "        # Compute the conditional probabilities of each attribute given the class\n",
    "        num_classes = len(np.unique(y))\n",
    "        num_features = X.shape[1]\n",
    "        cond_probs = np.zeros((num_classes, num_features, self.num_bins))\n",
    "\n",
    "        for c in range(num_classes):\n",
    "            for f in range(num_features):\n",
    "                for b in range(self.num_bins):\n",
    "                    # Count occurrences of feature values in the bin for class c\n",
    "                    count = np.sum((X[:, f] == b + 1) & (y == c))\n",
    "                    # Compute conditional probability\n",
    "                    cond_probs[c, f, b] = count / np.sum(y == c)\n",
    "\n",
    "        return cond_probs\n",
    "\n",
    "    def fit(self, X, y):\n",
    "        # Preprocess data\n",
    "        X_binned = self.preprocess_data(X)\n",
    "        \n",
    "        # Compute prior probabilities\n",
    "        self.prior_probs = self.compute_prior_probs(y)\n",
    "        \n",
    "        # Compute conditional probabilities\n",
    "        self.cond_probs = self.compute_cond_probs(X_binned, y)\n",
    "\n",
    "    def predict(self, X):\n",
    "        # Preprocess data\n",
    "        X_binned = self.preprocess_data(X)\n",
    "        \n",
    "        # Initialize array to store predictions\n",
    "        predictions = np.zeros(len(X))\n",
    "        \n",
    "        # Loop over instances\n",
    "        for i, x in enumerate(X_binned):\n",
    "            # Initialize array to store class probabilities\n",
    "            class_probs = np.zeros(len(self.prior_probs))\n",
    "            \n",
    "            # Loop over classes\n",
    "            for c in range(len(self.prior_probs)):\n",
    "                # Compute class probability using Naive Bayes formula\n",
    "                class_probs[c] = self.prior_probs[c]\n",
    "                for f, b in enumerate(x):\n",
    "                    class_probs[c] *= self.cond_probs[c, f, b -1]\n",
    "            \n",
    "            # Assign instance to class with highest probability\n",
    "            predictions[i] = np.argmax(class_probs)\n",
    "        \n",
    "        return predictions\n",
    "\n",
    "    def accuracy(self, y_true, y_pred):\n",
    "        # Compute percentage accuracy\n",
    "        return np.mean(y_true == y_pred) * 100\n"
   ]
  },
  {
   "cell_type": "code",
   "execution_count": 169,
   "id": "3873389c",
   "metadata": {},
   "outputs": [
    {
     "name": "stdout",
     "output_type": "stream",
     "text": [
      "Percentage Accuracy: 96.66666666666667\n"
     ]
    }
   ],
   "source": [
    "from sklearn.model_selection import train_test_split\n",
    "# Train Test Split\n",
    "X_train, X_test, y_train, y_test = train_test_split(X, y, test_size=0.2, random_state=42)\n",
    "\n",
    "# Instantiate and train the Naive Bayes classifier\n",
    "nb_classifier = NB_CLS(num_bins=3)\n",
    "nb_classifier.fit(X_train, y_train)\n",
    "\n",
    "# Predict classes\n",
    "y_pred = nb_classifier.predict(X_test)\n",
    "\n",
    "# Calculate accuracy\n",
    "accuracy = nb_classifier.accuracy(y_test, y_pred)\n",
    "print(\"Percentage Accuracy:\", accuracy)\n"
   ]
  },
  {
   "cell_type": "code",
   "execution_count": 170,
   "id": "ee753a5e",
   "metadata": {},
   "outputs": [
    {
     "name": "stdout",
     "output_type": "stream",
     "text": [
      "Percentage Accuracy on K=2 is: 66.66666666666666\n",
      "Percentage Accuracy on K=3 is: 96.66666666666667\n",
      "Percentage Accuracy on K=5 is: 86.66666666666667\n"
     ]
    },
    {
     "data": {
      "image/png": "[encoded data removed]",
      "text/plain": [
       "<Figure size 432x288 with 1 Axes>"
      ]
     },
     "metadata": {
      "needs_background": "light"
     },
     "output_type": "display_data"
    },
    {
     "name": "stdout",
     "output_type": "stream",
     "text": [
      "Best value of K: 3\n",
      "Best Percentage Accuracy: 96.66666666666667\n"
     ]
    }
   ],
   "source": [
    "K_values = [2, 3, 5]\n",
    "\n",
    "# Initialize lists to store accuracy for each K value\n",
    "accuracy_scores = []\n",
    "\n",
    "# Iterate over each K value\n",
    "for K in K_values:\n",
    "    # Train the Naive Bayes classifier\n",
    "    nb_classifier = NB_CLS(num_bins=K)\n",
    "    nb_classifier.fit(X_train, y_train)\n",
    "\n",
    "    # Make predictions on the test data\n",
    "    y_pred = nb_classifier.predict(X_test)\n",
    "\n",
    "    # Calculate accuracy and store it\n",
    "    # Calculate accuracy\n",
    "    accuracy = nb_classifier.accuracy(y_test, y_pred)\n",
    "    print(f\"Percentage Accuracy on K={K} is:\", accuracy)\n",
    "    accuracy_scores.append(accuracy)\n",
    "\n",
    "# Plot Percentage Accuracy vs. K\n",
    "plt.plot(K_values, accuracy_scores, marker='o')\n",
    "plt.title('Percentage Accuracy vs. Number of Bins (K)')\n",
    "plt.xlabel('Number of Bins (K)')\n",
    "plt.ylabel('Percentage Accuracy')\n",
    "plt.xticks(K_values)\n",
    "plt.grid(True)\n",
    "plt.show()\n",
    "\n",
    "# Find the best value of the hyperparameter K\n",
    "opt_K = K_values[np.argmax(accuracy_scores)]\n",
    "best_accuracy = max(accuracy_scores)\n",
    "print(\"Best value of K:\", opt_K)\n",
    "print(\"Best Percentage Accuracy:\", best_accuracy)"
   ]
  },
  {
   "cell_type": "code",
   "execution_count": 174,
   "id": "23428926",
   "metadata": {},
   "outputs": [
    {
     "name": "stdout",
     "output_type": "stream",
     "text": [
      "Accuracy for noiseless case (Experiment 1): 96.66666666666667\n",
      "Accuracy with noise fraction 10%: 50.0\n",
      "Accuracy with noise fraction 40%: 63.33333333333333\n",
      "Accuracy with noise fraction 80%: 66.66666666666666\n",
      "Accuracy with noise fraction 90%: 70.0\n"
     ]
    }
   ],
   "source": [
    "np.random.seed(0)\n",
    "# Define the fractions of training data for noise addition\n",
    "noise_fractions = [0.1, 0.4, 0.8, 0.9]\n",
    "\n",
    "# Define standard deviation for noise\n",
    "std_dev = 2.0\n",
    "\n",
    "# Initialize lists to store accuracy for each noise fraction\n",
    "accuracy_scores_with_noise = []\n",
    "\n",
    "# Iterate over each noise fraction\n",
    "for noise_fraction in noise_fractions:\n",
    "    # Add noise to a fraction of the training data\n",
    "    num_samples = int(noise_fraction * len(X_train))\n",
    "    noise = np.random.normal(loc=0, scale=std_dev, size=(num_samples, X_train.shape[1]))\n",
    "    X_train_with_noise = np.copy(X_train)\n",
    "    X_train_with_noise[:num_samples] += noise\n",
    "\n",
    "    # Train the Naive Bayes classifier with the optimal K\n",
    "    nb_classifier = NB_CLS(num_bins=opt_K)\n",
    "    nb_classifier.fit(X_train_with_noise, y_train)\n",
    "\n",
    "    # Make predictions on the test data\n",
    "    y_pred = nb_classifier.predict(X_test)\n",
    "\n",
    "    # Calculate accuracy and store it\n",
    "    accuracy_with_noise = nb_classifier.accuracy(y_test, y_pred)\n",
    "    accuracy_scores_with_noise.append(accuracy_with_noise)\n",
    "    \n",
    "# Calculate accuracy for the noiseless case (Experiment 1)\n",
    "nb_classifier_noiseless = NB_CLS(num_bins=opt_K)\n",
    "nb_classifier_noiseless.fit(X_train, y_train)\n",
    "y_pred_noiseless = nb_classifier_noiseless.predict(X_test)\n",
    "accuracy_noiseless = nb_classifier.accuracy(y_test, y_pred_noiseless)\n",
    "\n",
    "# Print the accuracy for the noiseless case\n",
    "print(\"Accuracy for noiseless case (Experiment 1):\", accuracy_noiseless)\n",
    "# Print the accuracy for each noise fraction\n",
    "for i, noise_fraction in enumerate(noise_fractions):\n",
    "    print(\"Accuracy with noise fraction {:.0f}%:\".format(noise_fraction * 100), accuracy_scores_with_noise[i])"
   ]
  },
  {
   "cell_type": "code",
   "execution_count": null,
   "id": "3f57d4d2",
   "metadata": {},
   "outputs": [],
   "source": []
  }
 ],
 "metadata": {
  "kernelspec": {
   "display_name": "Python 3 (ipykernel)",
   "language": "python",
   "name": "python3"
  },
  "language_info": {
   "codemirror_mode": {
    "name": "ipython",
    "version": 3
   },
   "file_extension": ".py",
   "mimetype": "text/x-python",
   "name": "python",
   "nbconvert_exporter": "python",
   "pygments_lexer": "ipython3",
   "version": "3.10.1"
  }
 },
 "nbformat": 4,
 "nbformat_minor": 5
}
