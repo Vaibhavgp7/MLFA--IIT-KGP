{
 "cells": [
  {
   "cell_type": "markdown",
   "id": "327d318f",
   "metadata": {},
   "source": [
    "Name - Vaibhav Gupta<br/>\n",
    "Roll Number - 20IE10041"
   ]
  },
  {
   "cell_type": "code",
   "execution_count": 34,
   "id": "c64eb568",
   "metadata": {},
   "outputs": [],
   "source": [
    "import numpy as np\n",
    "import pandas as pd\n",
    "import matplotlib.pyplot as plt\n",
    "import seaborn as sns\n",
    "%matplotlib inline\n",
    "from sklearn import datasets\n",
    "from sklearn.model_selection import train_test_split, GridSearchCV\n",
    "from sklearn.ensemble import RandomForestRegressor, AdaBoostClassifier\n",
    "from sklearn.metrics import mean_squared_error, classification_report, confusion_matrix\n",
    "from sklearn.datasets import fetch_openml "
   ]
  },
  {
   "cell_type": "code",
   "execution_count": 35,
   "id": "ec9c7072",
   "metadata": {},
   "outputs": [],
   "source": [
    "boston = fetch_openml(name='boston', version=1,parser='auto') \n",
    "\n",
    "# Split the dataset into training, validation, and testing sets with ratios of 70%, 15%, and 15% respectively\n",
    "X_train, X_temp, y_train, y_temp = train_test_split(boston.data, boston.target, test_size=0.3, random_state=42,shuffle=True)\n",
    "X_val, X_test, y_val, y_test = train_test_split(X_temp, y_temp, test_size=0.5, random_state=42,shuffle =True)"
   ]
  },
  {
   "cell_type": "code",
   "execution_count": 36,
   "id": "7fdfe62e",
   "metadata": {
    "scrolled": true
   },
   "outputs": [
    {
     "name": "stdout",
     "output_type": "stream",
     "text": [
      "Best hyperparameters for Random Forest Regressor: {'max_depth': 10, 'max_features': 3, 'n_estimators': 100}\n",
      "Mean Squared Error (MSE) on validation set: 6.126949292417017\n"
     ]
    }
   ],
   "source": [
    "# Define hyperparameters for tuning\n",
    "param_grid = {\n",
    "    'n_estimators': [50, 100, 150],\n",
    "    'max_depth': [None, 5, 10, 15],\n",
    "    'max_features': [int(np.log2(X_train.shape[1]))]\n",
    "}\n",
    "\n",
    "# Set random seed \n",
    "np.random.seed(42)\n",
    "\n",
    "# Create RandomForestRegressor model\n",
    "rf_regressor = RandomForestRegressor(criterion='squared_error')\n",
    "\n",
    "# Perform hyperparameter tuning using GridSearchCV\n",
    "grid_search = GridSearchCV(rf_regressor, param_grid, cv=3, scoring='neg_mean_squared_error')\n",
    "grid_search.fit(X_train, y_train)\n",
    "\n",
    "# Get the best model and its parameters\n",
    "best_rf_regressor = grid_search.best_estimator_\n",
    "best_params = grid_search.best_params_\n",
    "print(\"Best hyperparameters for Random Forest Regressor:\", best_params)\n",
    "\n",
    "# Evaluate the best model on the validation set\n",
    "y_val_pred = best_rf_regressor.predict(X_val)\n",
    "val_mse = mean_squared_error(y_val, y_val_pred)\n",
    "print(\"Mean Squared Error (MSE) on validation set:\", val_mse)\n"
   ]
  },
  {
   "cell_type": "code",
   "execution_count": 37,
   "id": "8d92ba39",
   "metadata": {},
   "outputs": [
    {
     "name": "stdout",
     "output_type": "stream",
     "text": [
      "Mean Squared Error (MSE) on testing set: 16.344320060290453\n"
     ]
    },
    {
     "data": {
      "image/png": "[encoded data removed]",
      "text/plain": [
       "<Figure size 432x288 with 1 Axes>"
      ]
     },
     "metadata": {
      "needs_background": "light"
     },
     "output_type": "display_data"
    }
   ],
   "source": [
    "# Evaluate the best model on the testing set\n",
    "y_test_pred = best_rf_regressor.predict(X_test)\n",
    "\n",
    "# Calculate mean squared error (MSE) between predicted and actual target values on the testing set\n",
    "test_mse = mean_squared_error(y_test, y_test_pred)\n",
    "print(\"Mean Squared Error (MSE) on testing set:\", test_mse)\n",
    "\n",
    "# Create a scatter plot visualizing the predicted target values versus the actual target values on the testing set\n",
    "plt.scatter(y_test, y_test_pred)\n",
    "plt.xlabel(\"Actual Values\")\n",
    "plt.ylabel(\"Predicted Values\")\n",
    "plt.title(\"Scatter plot of predicted vs actual values (Random Forest Regression)\")\n",
    "plt.show()\n"
   ]
  },
  {
   "cell_type": "code",
   "execution_count": 38,
   "id": "208cee3d",
   "metadata": {},
   "outputs": [],
   "source": [
    "from sklearn.datasets import load_breast_cancer \n",
    "cancer = load_breast_cancer()\n",
    "\n",
    "# Split the dataset into training, validation, and testing sets with ratios of 70%, 15%, and 15% respectively\n",
    "X_train, X_temp, y_train, y_temp = train_test_split(cancer.data, cancer.target, test_size=0.3, random_state=42,shuffle=True)\n",
    "X_val, X_test, y_val, y_test = train_test_split(X_temp, y_temp, test_size=0.5, random_state=42,shuffle =True)"
   ]
  },
  {
   "cell_type": "code",
   "execution_count": 53,
   "id": "0856d47d",
   "metadata": {},
   "outputs": [],
   "source": [
    "from sklearn.tree import DecisionTreeClassifier\n",
    "from sklearn.metrics import accuracy_score"
   ]
  },
  {
   "cell_type": "code",
   "execution_count": 77,
   "id": "c6d7fe82",
   "metadata": {},
   "outputs": [
    {
     "name": "stdout",
     "output_type": "stream",
     "text": [
      "Number of estimators: 50, Validation Accuracy: 0.9176470588235294\n",
      "Number of estimators: 100, Validation Accuracy: 0.8941176470588236\n",
      "Number of estimators: 150, Validation Accuracy: 0.9058823529411765\n"
     ]
    }
   ],
   "source": [
    "\n",
    "class AdaBoostClassifierScratch:\n",
    "    def __init__(self, n_estimators=50,random_seed=None):\n",
    "        self.n_estimators = n_estimators\n",
    "        self.estimators = []\n",
    "        self.estimator_weights = []\n",
    "        self.random_seed = random_seed\n",
    "    \n",
    "    def fit(self, X, y):\n",
    "        np.random.seed(self.random_seed)\n",
    "        \n",
    "        m = X.shape[0]\n",
    "        sample_weights = np.full(m, 1/m)\n",
    "        \n",
    "        for _ in range(self.n_estimators):\n",
    "            # Fit a decision tree using weighted samples\n",
    "            estimator = DecisionTreeClassifier(max_depth=3)\n",
    "            estimator.fit(X, y, sample_weight=sample_weights)\n",
    "            \n",
    "            # Predict on training data\n",
    "            y_pred = estimator.predict(X)\n",
    "            \n",
    "            # Calculate weighted error\n",
    "            weighted_error = np.sum(sample_weights * (y_pred != y))\n",
    "            \n",
    "            # Calculate estimator weight\n",
    "            estimator_weight = 0.5 * np.log((1 - weighted_error) / (weighted_error + 1e-10))\n",
    "            \n",
    "            # Update sample weights\n",
    "            sample_weights *= np.exp(-estimator_weight * y * y_pred)\n",
    "            sample_weights /= np.sum(sample_weights)\n",
    "            \n",
    "            # Save the estimator and its weight\n",
    "            self.estimators.append(estimator)\n",
    "            self.estimator_weights.append(estimator_weight)\n",
    "    \n",
    "    def predict(self, X):\n",
    "        n_samples = X.shape[0]\n",
    "        predictions = np.zeros(n_samples)\n",
    "        \n",
    "        for estimator, estimator_weight in zip(self.estimators, self.estimator_weights):\n",
    "            predictions += estimator_weight * estimator.predict(X)\n",
    "        \n",
    "        return np.sign(predictions)\n",
    "\n",
    "# Hyperparameter tuning\n",
    "param_grid = {'n_estimators': [50, 100, 150]}\n",
    "best_accuracy_scratch = 0\n",
    "best_n_estimators_scratch = None\n",
    "\n",
    "for n_estimators in param_grid['n_estimators']:\n",
    "    adaboost_clf = AdaBoostClassifierScratch(n_estimators=n_estimators,random_seed=None)\n",
    "    adaboost_clf.fit(X_train, y_train)\n",
    "    \n",
    "    #Evaluation on the validation set\n",
    "    y_pred_scratch = adaboost_clf.predict(X_val)\n",
    "    accuracy = accuracy_score(y_val, y_pred_scratch)\n",
    "    print(f\"Number of estimators: {n_estimators}, Validation Accuracy: {accuracy}\")\n",
    "    \n",
    "    if accuracy > best_accuracy_scratch:\n",
    "        best_accuracy_scratch = accuracy\n",
    "        best_n_estimators_scratch = n_estimators\n"
   ]
  },
  {
   "cell_type": "code",
   "execution_count": 78,
   "id": "270ef1e9",
   "metadata": {},
   "outputs": [
    {
     "name": "stdout",
     "output_type": "stream",
     "text": [
      "Best number of weak learners: 50\n",
      "Best Accuracy on validation set: 0.9176470588235294\n"
     ]
    }
   ],
   "source": [
    "print(\"Best number of weak learners:\", best_n_estimators_scratch)\n",
    "\n",
    "print(\"Best Accuracy on validation set:\", best_accuracy_scratch)"
   ]
  },
  {
   "cell_type": "code",
   "execution_count": 79,
   "id": "4a9c4856",
   "metadata": {},
   "outputs": [
    {
     "name": "stdout",
     "output_type": "stream",
     "text": [
      "Classification Report:\n",
      "              precision    recall  f1-score   support\n",
      "\n",
      "           0       1.00      0.77      0.87        26\n",
      "           1       0.91      1.00      0.95        60\n",
      "\n",
      "    accuracy                           0.93        86\n",
      "   macro avg       0.95      0.88      0.91        86\n",
      "weighted avg       0.94      0.93      0.93        86\n",
      "\n",
      "Confusion Matrix:\n",
      "[[20  6]\n",
      " [ 0 60]]\n"
     ]
    }
   ],
   "source": [
    "from sklearn.metrics import classification_report, confusion_matrix\n",
    "\n",
    "# Perform inference using the best model on the test set\n",
    "y_test_pred_scratch = adaboost_clf.predict(X_test)\n",
    "\n",
    "# Generate a classification report\n",
    "print(\"Classification Report:\")\n",
    "print(classification_report(y_test, y_test_pred_scratch))\n",
    "\n",
    "# Generate a confusion matrix\n",
    "print(\"Confusion Matrix:\")\n",
    "print(confusion_matrix(y_test, y_test_pred_scratch))"
   ]
  },
  {
   "cell_type": "code",
   "execution_count": 86,
   "id": "0c139d65",
   "metadata": {},
   "outputs": [
    {
     "name": "stdout",
     "output_type": "stream",
     "text": [
      "Best hyperparameters for sklearn's AdaBoost Classifier: {'n_estimators': 100}\n",
      "Accuracy on validation set: 0.9764705882352941\n",
      "Classification Report (sklearn's AdaBoost Classifier):\n",
      "              precision    recall  f1-score   support\n",
      "\n",
      "           0       0.96      1.00      0.98        26\n",
      "           1       1.00      0.98      0.99        60\n",
      "\n",
      "    accuracy                           0.99        86\n",
      "   macro avg       0.98      0.99      0.99        86\n",
      "weighted avg       0.99      0.99      0.99        86\n",
      "\n",
      "Confusion Matrix (sklearn's AdaBoost Classifier):\n",
      "[[26  0]\n",
      " [ 1 59]]\n"
     ]
    }
   ],
   "source": [
    "# Define hyperparameters for tuning\n",
    "param_grid = {\n",
    "    'n_estimators': [50, 100, 150]\n",
    "}\n",
    "\n",
    "np.random.seed(None)\n",
    "# Create AdaBoost Classifier using sklearn's implementation\n",
    "sklearn_ada_classifier = AdaBoostClassifier(estimator=DecisionTreeClassifier(max_depth=1))\n",
    "\n",
    "# Perform hyperparameter tuning using GridSearchCV\n",
    "sklearn_grid_search = GridSearchCV(sklearn_ada_classifier, param_grid, cv=3, scoring='accuracy')\n",
    "sklearn_grid_search.fit(X_train, y_train)\n",
    "\n",
    "# Get the best model and its parameters\n",
    "best_sklearn_ada_classifier = sklearn_grid_search.best_estimator_\n",
    "best_params_sklearn = sklearn_grid_search.best_params_\n",
    "print(\"Best hyperparameters for sklearn's AdaBoost Classifier:\", best_params_sklearn)\n",
    "\n",
    "\n",
    "# Evaluate the best model on the validation set\n",
    "y_val_pred_sklearn = best_sklearn_ada_classifier.predict(X_val)\n",
    "val_accuracy = accuracy_score(y_val, y_val_pred_sklearn)\n",
    "print(\"Accuracy on validation set:\", val_accuracy)\n",
    "\n",
    "# Evaluate the best model on the test set using sklearn's implementation\n",
    "y_test_pred_sklearn = best_sklearn_ada_classifier.predict(X_test)\n",
    "\n",
    "# Generate a classification report and confusion matrix for sklearn's AdaBoost Classifier\n",
    "print(\"Classification Report (sklearn's AdaBoost Classifier):\")\n",
    "print(classification_report(y_test, y_test_pred_sklearn))\n",
    "print(\"Confusion Matrix (sklearn's AdaBoost Classifier):\")\n",
    "print(confusion_matrix(y_test, y_test_pred_sklearn))\n",
    "\n"
   ]
  },
  {
   "cell_type": "code",
   "execution_count": 87,
   "id": "14e9313f",
   "metadata": {},
   "outputs": [
    {
     "name": "stdout",
     "output_type": "stream",
     "text": [
      "Comparison with custom implementation:\n",
      "Custom implementation - Best hyperparameters: 50\n",
      "Accuracy on validation set 0.9176470588235294\n",
      "Custom implementation - Classification Report:\n",
      "              precision    recall  f1-score   support\n",
      "\n",
      "           0       1.00      0.77      0.87        26\n",
      "           1       0.91      1.00      0.95        60\n",
      "\n",
      "    accuracy                           0.93        86\n",
      "   macro avg       0.95      0.88      0.91        86\n",
      "weighted avg       0.94      0.93      0.93        86\n",
      "\n",
      "Custom implementation - Confusion Matrix:\n",
      "[[20  6]\n",
      " [ 0 60]]\n"
     ]
    }
   ],
   "source": [
    "# Compare with custom implementation\n",
    "print(\"Comparison with custom implementation:\")\n",
    "\n",
    "print(\"Custom implementation - Best hyperparameters:\", best_n_estimators_scratch)\n",
    "print(\"Accuracy on validation set\", best_accuracy_scratch)\n",
    "print(\"Custom implementation - Classification Report:\")\n",
    "print(classification_report(y_test, y_test_pred_scratch))\n",
    "print(\"Custom implementation - Confusion Matrix:\")\n",
    "print(confusion_matrix(y_test, y_test_pred_scratch))"
   ]
  },
  {
   "cell_type": "code",
   "execution_count": null,
   "id": "d30f96e4",
   "metadata": {},
   "outputs": [],
   "source": []
  }
 ],
 "metadata": {
  "kernelspec": {
   "display_name": "Python 3 (ipykernel)",
   "language": "python",
   "name": "python3"
  },
  "language_info": {
   "codemirror_mode": {
    "name": "ipython",
    "version": 3
   },
   "file_extension": ".py",
   "mimetype": "text/x-python",
   "name": "python",
   "nbconvert_exporter": "python",
   "pygments_lexer": "ipython3",
   "version": "3.10.1"
  }
 },
 "nbformat": 4,
 "nbformat_minor": 5
}
